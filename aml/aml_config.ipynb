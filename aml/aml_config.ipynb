{
 "cells": [
  {
   "cell_type": "code",
   "execution_count": 0,
   "metadata": {
    "application/vnd.databricks.v1+cell": {
     "cellMetadata": {
      "byteLimit": 2048000,
      "rowLimit": 10000
     },
     "inputWidgets": {},
     "nuid": "e0ad18fc-19ec-433c-8c06-87f6c646169e",
     "showTitle": false,
     "tableResultSettingsMap": {},
     "title": ""
    }
   },
   "outputs": [
    {
     "output_type": "stream",
     "name": "stdout",
     "output_type": "stream",
     "text": [
      "Collecting splink==2.1.14\n  Obtaining dependency information for splink==2.1.14 from https://files.pythonhosted.org/packages/e4/b1/a48d8214fd3fbbb7a62e8efcce50489e74e3769f7a48ea827875a6912ef2/splink-2.1.14-py3-none-any.whl.metadata\n  Using cached splink-2.1.14-py3-none-any.whl.metadata (7.5 kB)\nCollecting jsonschema<4.0,>=3.2 (from splink==2.1.14)\n  Obtaining dependency information for jsonschema<4.0,>=3.2 from https://files.pythonhosted.org/packages/c5/8f/51e89ce52a085483359217bc72cdbf6e75ee595d5b1d4b5ade40c7e018b8/jsonschema-3.2.0-py2.py3-none-any.whl.metadata\n  Using cached jsonschema-3.2.0-py2.py3-none-any.whl.metadata (7.8 kB)\nCollecting sqlglot==1.23.1 (from splink==2.1.14)\n  Obtaining dependency information for sqlglot==1.23.1 from https://files.pythonhosted.org/packages/3d/94/16b706fc1dbded4213b9335e281d5d5ac118a11718d6afef58a1a6ef2f67/sqlglot-1.23.1-py3-none-any.whl.metadata\n  Using cached sqlglot-1.23.1-py3-none-any.whl.metadata (6.9 kB)\nRequirement already satisfied: typeguard<3.0.0,>=2.10.0 in /databricks/python3/lib/python3.11/site-packages (from splink==2.1.14) (2.13.3)\nRequirement already satisfied: attrs>=17.4.0 in /databricks/python3/lib/python3.11/site-packages (from jsonschema<4.0,>=3.2->splink==2.1.14) (22.1.0)\nRequirement already satisfied: pyrsistent>=0.14.0 in /databricks/python3/lib/python3.11/site-packages (from jsonschema<4.0,>=3.2->splink==2.1.14) (0.18.0)\nRequirement already satisfied: setuptools in /databricks/python3/lib/python3.11/site-packages (from jsonschema<4.0,>=3.2->splink==2.1.14) (68.0.0)\nRequirement already satisfied: six>=1.11.0 in /usr/lib/python3/dist-packages (from jsonschema<4.0,>=3.2->splink==2.1.14) (1.16.0)\nUsing cached splink-2.1.14-py3-none-any.whl (1.3 MB)\nUsing cached sqlglot-1.23.1-py3-none-any.whl (37 kB)\nUsing cached jsonschema-3.2.0-py2.py3-none-any.whl (56 kB)\nInstalling collected packages: sqlglot, jsonschema, splink\n  Attempting uninstall: jsonschema\n    Found existing installation: jsonschema 4.17.3\n    Not uninstalling jsonschema at /databricks/python3/lib/python3.11/site-packages, outside environment /local_disk0/.ephemeral_nfs/envs/pythonEnv-400e0306-faf3-4641-8ac1-65a18acd1d04\n    Can't uninstall 'jsonschema'. No files were found to uninstall.\nSuccessfully installed jsonschema-3.2.0 splink-2.1.14 sqlglot-1.23.1\n\u001B[43mNote: you may need to restart the kernel using %restart_python or dbutils.library.restartPython() to use updated packages.\u001B[0m\n"
     ]
    }
   ],
   "source": [
    "%pip install splink==2.1.14"
   ]
  },
  {
   "cell_type": "code",
   "execution_count": 0,
   "metadata": {
    "application/vnd.databricks.v1+cell": {
     "cellMetadata": {
      "byteLimit": 2048000,
      "rowLimit": 10000
     },
     "inputWidgets": {},
     "nuid": "fccb2fe9-ca9a-45eb-a1f5-011610b746c9",
     "showTitle": false,
     "tableResultSettingsMap": {},
     "title": ""
    }
   },
   "outputs": [],
   "source": [
    "import warnings\n",
    "warnings.filterwarnings(\"ignore\")"
   ]
  },
  {
   "cell_type": "code",
   "execution_count": 0,
   "metadata": {
    "application/vnd.databricks.v1+cell": {
     "cellMetadata": {
      "byteLimit": 2048000,
      "rowLimit": 10000
     },
     "inputWidgets": {},
     "nuid": "2fc8b3b2-5adb-4f2c-9e06-17171fd35cdd",
     "showTitle": false,
     "tableResultSettingsMap": {},
     "title": ""
    }
   },
   "outputs": [],
   "source": [
    "def tear_down():\n",
    "  import shutil\n",
    "  try:\n",
    "    shutil.rmtree(temp_directory)\n",
    "  except:\n",
    "    pass\n",
    "  _ = sql(\"DROP DATABASE IF EXISTS {} CASCADE\".format(database_name))\n",
    "  dbutils.fs.rm(home_directory, True)"
   ]
  },
  {
   "cell_type": "code",
   "execution_count": 0,
   "metadata": {
    "application/vnd.databricks.v1+cell": {
     "cellMetadata": {
      "byteLimit": 2048000,
      "rowLimit": 10000
     },
     "inputWidgets": {},
     "nuid": "d84a72d5-1350-4b1c-a8f6-301a1427992b",
     "showTitle": false,
     "tableResultSettingsMap": {},
     "title": ""
    }
   },
   "outputs": [],
   "source": [
    "import re\n",
    "from pathlib import Path\n",
    "\n",
    "# We ensure that all objects created in that notebooks will be registered in a user specific database. \n",
    "useremail = dbutils.notebook.entry_point.getDbutils().notebook().getContext().userName().get()\n",
    "username = useremail.split('@')[0]\n",
    "\n",
    "# Similar to database, we will store actual content on a given path\n",
    "home_directory = '/Workspace/Users/trishaldoshi@outlook.com/aml'\n",
    "dbutils.fs.mkdirs(home_directory)\n",
    "\n",
    "# Please replace this cell should you want to store data somewhere else.\n",
    "database_name = '{}_aml'.format(re.sub('\\W', '_', username))\n",
    "\n",
    "# Where we might store temporary data on local disk\n",
    "temp_directory = \"/Workspace/Users/trishaldoshi@outlook.com/aml_temp'"
   ]
  },
  {
   "cell_type": "code",
   "execution_count": 0,
   "metadata": {
    "application/vnd.databricks.v1+cell": {
     "cellMetadata": {
      "byteLimit": 2048000,
      "rowLimit": 10000
     },
     "inputWidgets": {},
     "nuid": "312cae1f-adb6-41b1-a737-bf9e1c6c3289",
     "showTitle": false,
     "tableResultSettingsMap": {},
     "title": ""
    }
   },
   "outputs": [
    {
     "output_type": "display_data",
     "data": {
      "text/plain": [
       "'/Workspace/Users/trishaldoshi@outlook.com/aml'"
      ]
     },
     "metadata": {},
     "output_type": "display_data"
    }
   ],
   "source": [
    "display(home_directory)"
   ]
  },
  {
   "cell_type": "code",
   "execution_count": 0,
   "metadata": {
    "application/vnd.databricks.v1+cell": {
     "cellMetadata": {
      "byteLimit": 2048000,
      "rowLimit": 10000
     },
     "inputWidgets": {},
     "nuid": "fdbc03b3-a62e-4198-be9c-e8ec281a3fc9",
     "showTitle": false,
     "tableResultSettingsMap": {},
     "title": ""
    }
   },
   "outputs": [],
   "source": [
    "tear_down()"
   ]
  },
  {
   "cell_type": "code",
   "execution_count": 0,
   "metadata": {
    "application/vnd.databricks.v1+cell": {
     "cellMetadata": {
      "byteLimit": 2048000,
      "rowLimit": 10000
     },
     "inputWidgets": {},
     "nuid": "95196798-cbca-4b6f-87ab-7d0a80d725ed",
     "showTitle": false,
     "tableResultSettingsMap": {},
     "title": ""
    }
   },
   "outputs": [
    {
     "output_type": "display_data",
     "data": {
      "text/plain": [
       "'trishaldoshi_aml'"
      ]
     },
     "metadata": {},
     "output_type": "display_data"
    }
   ],
   "source": [
    "display(database_name)"
   ]
  },
  {
   "cell_type": "code",
   "execution_count": 0,
   "metadata": {
    "application/vnd.databricks.v1+cell": {
     "cellMetadata": {
      "byteLimit": 2048000,
      "implicitDf": true,
      "rowLimit": 10000
     },
     "inputWidgets": {},
     "nuid": "808ce9f9-2bb7-4f33-879f-97c0c6f7247c",
     "showTitle": false,
     "tableResultSettingsMap": {},
     "title": ""
    }
   },
   "outputs": [
    {
     "output_type": "display_data",
     "data": {
      "text/html": [
       "<style scoped>\n",
       "  .table-result-container {\n",
       "    max-height: 300px;\n",
       "    overflow: auto;\n",
       "  }\n",
       "  table, th, td {\n",
       "    border: 1px solid black;\n",
       "    border-collapse: collapse;\n",
       "  }\n",
       "  th, td {\n",
       "    padding: 5px;\n",
       "  }\n",
       "  th {\n",
       "    text-align: left;\n",
       "  }\n",
       "</style><div class='table-result-container'><table class='table-result'><thead style='background-color: white'><tr></tr></thead><tbody></tbody></table></div>"
      ]
     },
     "metadata": {
      "application/vnd.databricks.v1+output": {
       "addedWidgets": {},
       "aggData": [],
       "aggError": "",
       "aggOverflow": false,
       "aggSchema": [],
       "aggSeriesLimitReached": false,
       "aggType": "",
       "arguments": {},
       "columnCustomDisplayInfos": {},
       "data": [],
       "datasetInfos": [],
       "dbfsResultPath": null,
       "isJsonSchema": true,
       "metadata": {
        "dataframeName": null
       },
       "overflow": false,
       "plotOptions": {
        "customPlotOptions": {},
        "displayType": "table",
        "pivotAggregation": null,
        "pivotColumns": null,
        "xColumns": null,
        "yColumns": null
       },
       "removedWidgets": [],
       "schema": [],
       "type": "table"
      }
     },
     "output_type": "display_data"
    }
   ],
   "source": [
    "%sql \n",
    "CREATE DATABASE IF NOT EXISTS trishaldoshi_aml"
   ]
  },
  {
   "cell_type": "code",
   "execution_count": 0,
   "metadata": {
    "application/vnd.databricks.v1+cell": {
     "cellMetadata": {
      "byteLimit": 2048000,
      "rowLimit": 10000
     },
     "inputWidgets": {},
     "nuid": "0e075102-0c83-4fbe-91a2-55b2a067c3f8",
     "showTitle": false,
     "tableResultSettingsMap": {},
     "title": ""
    }
   },
   "outputs": [],
   "source": [
    "import re\n",
    "\n",
    "config = {\n",
    "  'db_transactions': f\"{database_name}.transactions\",\n",
    "  'db_entities': f\"{database_name}.entities\",\n",
    "  'db_dedupe': f\"{database_name}.dedupe\",\n",
    "  'db_synth_scores': f\"{database_name}.synth_scores\",\n",
    "  'db_structuring': f\"{database_name}.structuring\",\n",
    "  'db_structuring_levels': f\"{database_name}.structuring_levels\",\n",
    "  'db_roundtrips': f\"{database_name}.roundtrips\",\n",
    "  'db_risk_propagation': f\"{database_name}.risk_propagation\",\n",
    "  'db_streetview': f\"{database_name}.streetview\",\n",
    "  'db_dedupe_records': f\"{database_name}.dedupe_splink\",\n",
    "}"
   ]
  },
  {
   "cell_type": "code",
   "execution_count": 0,
   "metadata": {
    "application/vnd.databricks.v1+cell": {
     "cellMetadata": {
      "byteLimit": 2048000,
      "rowLimit": 10000
     },
     "inputWidgets": {},
     "nuid": "6ad6c4a7-79fb-4c34-928c-eec68c8f9ab7",
     "showTitle": false,
     "tableResultSettingsMap": {},
     "title": ""
    }
   },
   "outputs": [
    {
     "output_type": "stream",
     "name": "stdout",
     "output_type": "stream",
     "text": [
      "Creating input tables trishaldoshi_aml.transactions and trishaldoshi_aml.entities\n"
     ]
    }
   ],
   "source": [
    "tables = set(sql(\"SHOW TABLES IN {}\".format(database_name)).toPandas().set_index(\"tableName\").index)\n",
    "\n",
    "if len(tables) == 0:\n",
    "  \n",
    "  print(\"Creating input tables {} and {}\".format(config['db_transactions'], config['db_entities']))\n",
    "  # populate table with sample records\n",
    "  spark \\\n",
    "    .read \\\n",
    "    .format(\"parquet\") \\\n",
    "    .load(\"s3://db-gtm-industry-solutions/data/fsi/aml_introduction/txns.parquet\") \\\n",
    "    .write \\\n",
    "    .saveAsTable(config['db_transactions'])\n",
    "  \n",
    "  spark \\\n",
    "    .read \\\n",
    "    .format(\"parquet\") \\\n",
    "    .load(\"s3://db-gtm-industry-solutions/data/fsi/aml_introduction/entities.parquet\") \\\n",
    "    .write \\\n",
    "    .saveAsTable(config['db_entities'])\n",
    "\n",
    "  spark \\\n",
    "    .read \\\n",
    "    .format(\"csv\") \\\n",
    "    .option(\"header\", True) \\\n",
    "    .option(\"inferSchema\", True) \\\n",
    "    .load(\"s3://db-gtm-industry-solutions/data/fsi/aml_introduction/dedupe.csv\") \\\n",
    "    .write \\\n",
    "    .saveAsTable(config['db_dedupe'])"
   ]
  },
  {
   "cell_type": "code",
   "execution_count": 0,
   "metadata": {
    "application/vnd.databricks.v1+cell": {
     "cellMetadata": {
      "byteLimit": 2048000,
      "rowLimit": 10000
     },
     "inputWidgets": {},
     "nuid": "19a8dda1-afb3-47bf-b31c-428831e35b2e",
     "showTitle": false,
     "tableResultSettingsMap": {},
     "title": ""
    }
   },
   "outputs": [
    {
     "output_type": "stream",
     "name": "stderr",
     "output_type": "stream",
     "text": [
      "2025/03/03 13:08:16 INFO mlflow.tracking.fluent: Experiment with name '/Users/trishaldoshi@outlook.com/aml_experiment' does not exist. Creating a new experiment.\n"
     ]
    },
    {
     "output_type": "execute_result",
     "data": {
      "text/plain": [
       "<Experiment: artifact_location='dbfs:/databricks/mlflow-tracking/1251187827433329', creation_time=1741007296733, experiment_id='1251187827433329', last_update_time=1741007296733, lifecycle_stage='active', name='/Users/trishaldoshi@outlook.com/aml_experiment', tags={'mlflow.experiment.sourceName': '/Users/trishaldoshi@outlook.com/aml_experiment',\n",
       " 'mlflow.experimentType': 'MLFLOW_EXPERIMENT',\n",
       " 'mlflow.ownerEmail': 'trishaldoshi@outlook.com',\n",
       " 'mlflow.ownerId': '4503932489037577'}>"
      ]
     },
     "execution_count": 20,
     "metadata": {},
     "output_type": "execute_result"
    }
   ],
   "source": [
    "import mlflow\n",
    "experiment_name = f\"/Users/{useremail}/aml_experiment\"\n",
    "mlflow.set_experiment(experiment_name) "
   ]
  }
 ],
 "metadata": {
  "application/vnd.databricks.v1+notebook": {
   "computePreferences": null,
   "dashboards": [],
   "environmentMetadata": null,
   "language": "python",
   "notebookMetadata": {
    "mostRecentlyExecutedCommandWithImplicitDF": {
     "commandId": 7020655052756705,
     "dataframes": [
      "_sqldf"
     ]
    },
    "pythonIndentUnit": 4
   },
   "notebookName": "aml_config",
   "widgets": {}
  },
  "language_info": {
   "name": "python"
  }
 },
 "nbformat": 4,
 "nbformat_minor": 0
}